{
 "cells": [
  {
   "cell_type": "markdown",
   "id": "2fe0a7cd",
   "metadata": {},
   "source": [
    "# C# Programs"
   ]
  },
  {
   "cell_type": "markdown",
   "id": "6a6fff27",
   "metadata": {},
   "source": [
    "Q.1)) What data type is each of the following?\n",
    "\n",
    "    5\n",
    "    5.0\n",
    "    5 > 1\n",
    "    '5'\n",
    "    5 * 2\n",
    "    '5' * 2\n",
    "    '5' + '2'\n",
    "    5 / 2\n",
    "    5 % 2\n",
    "    {5, 2, 1}\n",
    "    5 == 3\n",
    "    Pi (the number)"
   ]
  },
  {
   "cell_type": "markdown",
   "id": "46dd161b",
   "metadata": {},
   "source": [
    "  Answer:       5  = integer\n",
    "                5.0 = double\n",
    "                5 > 1= Boolean\n",
    "                '5' = character string\n",
    "                5 * 2 = int\n",
    "                '5' * 2 = int string\n",
    "                '5' + '2' = int string\n",
    "                5 / 2 = int\n",
    "                5 % 2 = int double\n",
    "                {5, 2, 1} = array of integers list\n",
    "                5 == 3 = boolean\n",
    "                Pi (the number) = double"
   ]
  },
  {
   "cell_type": "markdown",
   "id": "4b0759a4",
   "metadata": {},
   "source": [
    "Q.2)) Write (and evaluate) C# expressions that answer these questions:"
   ]
  },
  {
   "cell_type": "markdown",
   "id": "ead9d6d7",
   "metadata": {},
   "source": [
    "A. How many letters are there in 'Supercalifragilisticexpialidocious'?"
   ]
  },
  {
   "cell_type": "code",
   "execution_count": 32,
   "id": "079c764e",
   "metadata": {},
   "outputs": [
    {
     "name": "stdout",
     "output_type": "stream",
     "text": [
      "The name Supercalifragilisticexpialidocious contains 34 Letters.\r\n"
     ]
    }
   ],
   "source": [
    "string name = \"Supercalifragilisticexpialidocious\";\n",
    "int nameLength = name.Length;\n",
    "Console.WriteLine(\"The name \" + name + \" contains \" + nameLength + \" Letters.\");"
   ]
  },
  {
   "cell_type": "markdown",
   "id": "f9e4b234",
   "metadata": {},
   "source": [
    "B. Does 'Supercalifragilisticexpialidocious' contain 'ice' as a substring?"
   ]
  },
  {
   "cell_type": "code",
   "execution_count": 4,
   "id": "4485ee7e",
   "metadata": {},
   "outputs": [
    {
     "name": "stdout",
     "output_type": "stream",
     "text": [
      "True\r\n"
     ]
    }
   ],
   "source": [
    "Console.WriteLine(name.Contains(\"ice\"));\n"
   ]
  },
  {
   "cell_type": "markdown",
   "id": "867b41b2",
   "metadata": {},
   "source": [
    "C. Which of the following words is the longest:Supercalifragilisticexpialidocious, Honorificabilitudinitatibus, or\n",
    "Bababadalgharaghtakamminarronnkonn?"
   ]
  },
  {
   "cell_type": "code",
   "execution_count": 33,
   "id": "87ad531c",
   "metadata": {},
   "outputs": [
    {
     "name": "stdout",
     "output_type": "stream",
     "text": [
      "Supercalifragilisticexpialidocious is the longest word which Contains 34 Letters\r\n"
     ]
    }
   ],
   "source": [
    "string[] words = {\"Supercalifragilisticexpialidocious\", \"Honorificabilitudinitatibus\",\"Bababadalgharaghtakamminarronnkonn\"};\n",
    "string word = \"\";\n",
    "int ctr = 0;\n",
    "foreach (String s in words)\n",
    "{\n",
    "    if (s.Length > ctr)\n",
    "    {\n",
    "        word = s;\n",
    "        ctr = s.Length;\n",
    "     }\n",
    "}\n",
    "Console.WriteLine(word +\" is the longest word which Contains \"+ ctr+ \" Letters\");\n"
   ]
  },
  {
   "cell_type": "markdown",
   "id": "7add83f2",
   "metadata": {},
   "source": [
    "D. Which composer comes first in the dictionary: 'Berlioz', 'Borodin', 'Brian','Bartok', 'Bellini', 'Buxtehude', 'Bernstein'. Which one comes last?"
   ]
  },
  {
   "cell_type": "markdown",
   "id": "dba32ab2",
   "metadata": {},
   "source": [
    "Q.3))Implement function triangleArea(a,b,c) that takes as input the lengths of the 3\n",
    "sides of a triangle and returns the area of the triangle. By Heron's formula, the area\n",
    "of a triangle with side lengths a, b, and c is s(s − a)(s −b)(s −c), where\n",
    "s = (a + b + c)/2."
   ]
  },
  {
   "cell_type": "code",
   "execution_count": 37,
   "id": "0d5a0e43",
   "metadata": {},
   "outputs": [],
   "source": [
    "using System;\n",
    "\n",
    "public class Area\n",
    "{\n",
    "    static double triangleArea(int a, int b, int c)\n",
    "    {\n",
    "        float s = (a + b + c) / 2;\n",
    "        return (double)Math.Sqrt(s * (s - a) * (s - b) * (s - c));\n",
    "    }\n",
    "\n",
    "    public static void Main()\n",
    "    {\n",
    "        Console.WriteLine(\"Area is \" + triangleArea(2, 2, 2));\n",
    "    }\n",
    "}"
   ]
  },
  {
   "cell_type": "markdown",
   "id": "0ade6156",
   "metadata": {},
   "source": [
    "Q.4)) Write a program in C# Sharp to separate odd and even integers in separate arrays.\n",
    "Go to the editor\n",
    "Test Data :\n",
    "Input the number of elements to be stored in the array :5\n",
    "Input 5 elements in the array :\n",
    "element - 0 : 25\n",
    "element - 1 : 47\n",
    "element - 2 : 42\n",
    "element - 3 : 56\n",
    "element - 4 : 32 "
   ]
  },
  {
   "cell_type": "code",
   "execution_count": 50,
   "id": "98023668",
   "metadata": {},
   "outputs": [
    {
     "ename": "Unhandled Exception",
     "evalue": "(2,13): error CS1001: Identifier expected\r\n(3,2): error CS1513: } expected\r\n(52,2): error CS7017: Member definition, statement, or end-of-file expected",
     "output_type": "error",
     "traceback": [
      "(2,13): error CS1001: Identifier expected\r\n(3,2): error CS1513: } expected\r\n(52,2): error CS7017: Member definition, statement, or end-of-file expected"
     ]
    }
   ],
   "source": [
    "using System;  \n",
    "public class \n",
    "{  \n",
    "    public static void Main() \n",
    " {\n",
    "    int[] arr1 = new int[10];\n",
    "    int[] arr2 = new int[10];\n",
    "    int[] arr3 = new int[10];\n",
    "    int i,j=0,k=0,n;\n",
    "\n",
    "\n",
    "       Console.Write(\"\\n\\nSeparate odd and even integers in separate arrays:\\n\");\n",
    "       Console.Write(\"------------------------------------------------------\\n\");\n",
    "\n",
    "       Console.Write(\"Input the number of elements to be stored in the array :\");\n",
    "       n = Convert.ToInt32(Console.ReadLine());\n",
    "   \n",
    "       Console.Write(\"Input {0} elements in the array :\\n\",n);\n",
    "       for(i=0;i<n;i++)\n",
    "            {\n",
    "                 Console.Write(\"element - {0} : \",i);\n",
    "                  arr1[i] = Convert.ToInt32(Console.ReadLine());   \n",
    "            }\n",
    "\n",
    "            for(i=0;i<n;i++)\n",
    "            {\n",
    "                if (arr1[i]%2 == 0)\n",
    "            {\n",
    "               arr2[j] = arr1[i];\n",
    "               j++;\n",
    "            }\n",
    "            else\n",
    "            {\n",
    "              arr3[k] = arr1[i];\n",
    "               k++;\n",
    "            }\n",
    "    }\n",
    "\n",
    "    Console.Write(\"\\nThe Even elements are : \\n\");\n",
    "    for(i=0;i<j;i++)\n",
    "    {\n",
    "        Console.Write(\"{0} \",arr2[i]);\n",
    "    }\n",
    "\n",
    "    Console.Write(\"\\nThe Odd elements are :\\n\");\n",
    "    for(i=0;i<k;i++)\n",
    "    {\n",
    "        Console.Write(\"{0} \", arr3[i]);\n",
    "    }\n",
    "    Console.Write(\"\\n\\n\");\t\n",
    "   }\n",
    " }"
   ]
  },
  {
   "cell_type": "markdown",
   "id": "2300533e",
   "metadata": {},
   "source": [
    "Q.5))\n",
    "A. Write a function inside(x,y,x1,y1,x2,y2) that returns True or False\n",
    "dependingonwhetherthepoint(x,y)liesintherectanglewithlowerleft\n",
    "corner (x1,y1) and upper right corner (x2,y2).\n",
    "inside(1,1,0,0,2,3)\n",
    "True\n",
    "inside(-1,-1,0,0,2,3)\n",
    "False\n"
   ]
  },
  {
   "cell_type": "code",
   "execution_count": 48,
   "id": "359657cd",
   "metadata": {},
   "outputs": [],
   "source": [
    "using System;\n",
    "public class Check\n",
    "{\n",
    "    static bool inside(int x, int y, int x1, int y1, int x2, int y2)\n",
    "    {\n",
    "        if (x > x1 && x < x2 && y > y1 && y < y2)\n",
    "            return true;\n",
    "        else\n",
    "            return false;\n",
    "    }\n",
    "    public static void Main()\n",
    "    {\n",
    "            int x = 1, y = 1, x1 = 0, y1 = 0, x2 = 2, y2 = 3;\n",
    "        if (inside(x, y, x1, y1, x2, y2))\n",
    "            Console.Write(\"Given point lies inside\");\n",
    "        else\n",
    "            Console.Write(\"Given point lies outside\");\n",
    "    }\n",
    "}"
   ]
  },
  {
   "cell_type": "markdown",
   "id": "2649e67b",
   "metadata": {},
   "source": [
    "B. Use function inside()from part a. to write an expression that tests whether\n",
    "the point (1,1) lies in both of the following rectangles: one with lower left\n",
    "corner (0.3, 0.5) and upper right corner (1.1, 0.7) and the other with lower\n",
    "left corner (0.5, 0.2) and upper right corner (1.1, 2)."
   ]
  },
  {
   "cell_type": "code",
   "execution_count": 46,
   "id": "49604a26",
   "metadata": {},
   "outputs": [],
   "source": [
    "using System;\n",
    "public class Check\n",
    "{\n",
    "    static bool inside(double x, double y, double x1, double y1, double x2, double y2)\n",
    "    {\n",
    "        if (x > x1 && x < x2 && y > y1 && y < y2)\n",
    "            return true;\n",
    "        else\n",
    "            return false;\n",
    "    }\n",
    "        public static void Main()\n",
    "        {\n",
    "            double x = 1, y = 1, x1 = 0.3, y1 = 0.5, x2 = 1.1, y2 = 0.7;\n",
    "            if (inside(x, y, x1, y1, x2, y2))\n",
    "                Console.Write(\"(1,1) Given point lies inside (0.3, 0.5 1.1, 0.7)\\n\");\n",
    "            else\n",
    "                Console.Write(\"(1,1) Given point lies outside (0.3, 0.5 1.1, 0.7)\\n\");\n",
    "            \n",
    "            if (inside(1, 1, 0.5, 0.2, 1.1, 2))\n",
    "                Console.Write(\"(1,1) Given point lies inside (0.5, 0.2, 1.1, 2)\");\n",
    "            else\n",
    "                Console.Write(\"(1,1) Given point lies outside (0.5, 0.2, 1.1, 2)\");\n",
    "        }\n",
    "}"
   ]
  },
  {
   "cell_type": "code",
   "execution_count": null,
   "id": "3acad492",
   "metadata": {},
   "outputs": [],
   "source": []
  }
 ],
 "metadata": {
  "kernelspec": {
   "display_name": ".NET (C#)",
   "language": "C#",
   "name": ".net-csharp"
  },
  "language_info": {
   "file_extension": ".cs",
   "mimetype": "text/x-csharp",
   "name": "C#",
   "pygments_lexer": "csharp",
   "version": "8.0"
  }
 },
 "nbformat": 4,
 "nbformat_minor": 5
}
