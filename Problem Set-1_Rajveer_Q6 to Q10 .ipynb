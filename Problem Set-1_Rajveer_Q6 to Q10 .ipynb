{
 "cells": [
  {
   "cell_type": "markdown",
   "id": "c6e7ca96",
   "metadata": {},
   "source": [
    "# Python Programs"
   ]
  },
  {
   "cell_type": "markdown",
   "id": "53b9e8ca",
   "metadata": {},
   "source": [
    "Q.6) You can turn a word into pig-Latin using the following two rules(simplified):\n",
    "• If the word starts with a consonant, move that letter to the end and append \n",
    "'ay'. For example, 'happy' becomes 'appyhay' and 'pencil' becomes 'encilpay'.\n",
    "• If the word starts with a vowel, simply append 'way' to the end of the word. \n",
    "For example, 'enter' becomes 'enterway' and 'other' becomes 'otherway' . For \n",
    "our purposes, there are 5 vowels: a, e, i, o, u (so we count y as a consonant).\n",
    "Write a function pig() that takes a word (i.e., a string) as input and returns its pig\u0002Latin form. Your function should still work if the input word contains upper case \n",
    "characters. Your output should always be lower case however."
   ]
  },
  {
   "cell_type": "code",
   "execution_count": 1,
   "id": "c522337f",
   "metadata": {
    "scrolled": true
   },
   "outputs": [
    {
     "name": "stdout",
     "output_type": "stream",
     "text": [
      "Convert message to pig latin: Rajveer\n",
      "ajveeray eeray eeray\n"
     ]
    }
   ],
   "source": [
    "\n",
    "pigLatin = input(\"Convert message to pig latin: \")\n",
    "wordList = pigLatin.lower().split(\" \")\n",
    "vowels = ['a', 'e', 'i', 'o', 'u']\n",
    "pigLatin = []\n",
    "eachWord = []\n",
    "def pig(pigLatin):\n",
    "    for word in wordList:\n",
    "        if word[0] in 'aeiou': #case where vowel is first\n",
    "            pigLatin.append(word + 'way')\n",
    "        if word[0] not in 'aeiou':\n",
    "            for letter in word:\n",
    "                if letter in 'aeiou':\n",
    "                    pigLatin.append(word[word.index(letter):] +'ay')\n",
    "\n",
    "\n",
    "    print(\" \".join(pigLatin))\n",
    "pig(pigLatin)\n",
    "\n"
   ]
  },
  {
   "cell_type": "markdown",
   "id": "76a571bd",
   "metadata": {},
   "source": [
    "Q.7)) File bloodtype1.txt records blood-types of patients (A, B, AB, O or OO) at a clinic. \n",
    "Write a function bldcount() that reads the file with name name and reports (i.e., \n",
    "prints) how many patients there are in each bloodtype.\n",
    " ->>bldcount('bloodtype.txt')\n",
    "There are 10 patients of blood type A. \n",
    "There is one patient of blood type B. \n",
    "There are 10 patients of blood type AB. \n",
    "There are 12 patients of blood type O. \n",
    "There are no patients of blood type OO.\n"
   ]
  },
  {
   "cell_type": "code",
   "execution_count": 10,
   "id": "be5599db",
   "metadata": {
    "scrolled": true
   },
   "outputs": [
    {
     "name": "stdout",
     "output_type": "stream",
     "text": [
      "There are 0 patients of blood type A.\n",
      "There are 0 patients of blood type B.\n",
      "There are 0 patients of blood type AB.\n",
      "There are 0 patients of blood type O.\n",
      "There are 0 patients of blood type OO.\n"
     ]
    }
   ],
   "source": [
    "def bldcount(filename):\n",
    "    \n",
    "    #reading the file\n",
    "    x = open(filename,'r')\n",
    "    words = x.readline()\n",
    "    lst = []\n",
    "    blood_types = ['A','B','AB','O','OO']\n",
    "    \n",
    "    \n",
    "    lst.append(words.split(\" \"))\n",
    "    \n",
    "   \n",
    "    for blood_type in blood_types:\n",
    "        print(\"There are {} patients of blood type {}.\".format(lst[0].count(blood_type),blood_type))\n",
    "bldcount('bldcount.txt')"
   ]
  },
  {
   "cell_type": "markdown",
   "id": "6a399b0d",
   "metadata": {},
   "source": [
    "Q.8))Write a function curconv() that takes as input:\n",
    "1.a currency represented using a string (e.g., 'JPY' for the Japanese Yen or \n",
    "#'EUR' for the Euro)\n",
    "2.an amount\n",
    "#and then converts and returns the amount in US dollars.\n",
    "#def curconv(string str, double amount):\n"
   ]
  },
  {
   "cell_type": "code",
   "execution_count": 12,
   "id": "32cea49c",
   "metadata": {},
   "outputs": [],
   "source": [
    "def curconv(currency,amount):\n",
    "    currencies = {}\n",
    "    \n",
    "  \n",
    "    current_file = open('currencies.txt')\n",
    "    line = cur_file.readlines()\n",
    "    \n",
    "    \n",
    "    for x in line:\n",
    "        currencies[x[:3].strip()] = x[4:].split(\"\\t\")\n",
    "    value = currencies[currency][0].strip()\n",
    "    print(amount * float(value))\n",
    "        \n",
    "        \n",
    "    "
   ]
  },
  {
   "cell_type": "markdown",
   "id": "b141a457",
   "metadata": {},
   "source": [
    "Q.9))Each of the following will cause an exception (an error). Identify what type of \n",
    "exception each will cause."
   ]
  },
  {
   "cell_type": "code",
   "execution_count": 56,
   "id": "d3f85b2b",
   "metadata": {},
   "outputs": [
    {
     "ename": "SyntaxError",
     "evalue": "invalid syntax (1705450313.py, line 1)",
     "output_type": "error",
     "traceback": [
      "\u001b[1;36m  Input \u001b[1;32mIn [56]\u001b[1;36m\u001b[0m\n\u001b[1;33m    TrYing to add incompatible variables, as in adding 6+ 'a'\u001b[0m\n\u001b[1;37m           ^\u001b[0m\n\u001b[1;31mSyntaxError\u001b[0m\u001b[1;31m:\u001b[0m invalid syntax\n"
     ]
    }
   ],
   "source": [
    "\n",
    "\n",
    "TrYing to add incompatible variables, as in adding 6+ 'a'\n",
    "TypeError: unsupported operand type(s) for +: 'int' and 'str'\n",
    "        \n",
    "Referring to the 12 A (th) item of a list that has only 10 items\n",
    "IndexError:list index out of range\n",
    "    \n",
    "Using a value that is out of range for a function's input, such as calling sqrt(- 1.0)\n",
    "ValueError: math domain error\n",
    "    \n",
    "Using an undeclared variable, such as print t(x) when x has not been defined\n",
    "NameError: name 'x' is not defined\n",
    "    \n",
    "Trying to open a file that does not exist, such as mistyping the file name or looking in the wrong directmy.\n",
    "IOError: No such file or directory\n"
   ]
  },
  {
   "cell_type": "markdown",
   "id": "d5298132",
   "metadata": {},
   "source": [
    "Q.10))Encryption is the process of hiding the meaning of a text by substituting letters in the \n",
    "message with other letters, according to some system. If the process is successful, no \n",
    "one but the intended recipient can understand the encrypted message. Cryptanalysis \n",
    "refers to attempts to undo the encryption, even if some details of the encryption are \n",
    "unknown (for example, if an encrypted message has been intercepted). The first step \n",
    "of cryptanalysis is often to build up a table of letter frequencies in the encrypted text. \n",
    "Assume that the string letters is already defined as \n",
    "'abcdefghijklmnopqrstuvwxyz'. Write a function called frequencies() \n",
    "that takes a string as its only parameter, and returns a list of integers, showing the \n",
    "number of times each character appears in the text. Your function may ignore any \n",
    "characters that are not in letters."
   ]
  },
  {
   "cell_type": "code",
   "execution_count": 6,
   "id": "19e60e33",
   "metadata": {},
   "outputs": [
    {
     "name": "stdout",
     "output_type": "stream",
     "text": [
      "Enter String : Aemond\n",
      "Resultant Dictionary : \n",
      "{'a': 1, 'b': 0, 'c': 0, 'd': 1, 'e': 1, 'f': 0, 'g': 0, 'h': 0, 'i': 0, 'j': 0, 'k': 0, 'l': 0, 'm': 1, 'n': 1, 'o': 1, 'p': 0, 'q': 0, 'r': 0, 's': 0, 't': 0, 'u': 0, 'v': 0, 'w': 0, 'x': 0, 'y': 0, 'z': 0}\n"
     ]
    }
   ],
   "source": [
    "\n",
    "\n",
    "import string\n",
    "from collections import OrderedDict\n",
    "def frequencies(str1):\n",
    "    dict1=dict(OrderedDict(zip(string.ascii_lowercase,[0]*26)))\n",
    "    \n",
    "    # iterate string to store the charcter's frequencies in dictionary.\n",
    "    for i in range(0,len(str1)):\n",
    "        if str1[i]=='a' or str1[i]=='A':\n",
    "            dict1['a']+=1\n",
    "            \n",
    "        elif str1[i]=='b' or str1[i]=='B':\n",
    "            dict1['b']+=1\n",
    "            \n",
    "        elif str1[i]=='c' or str1[i]=='c':\n",
    "            dict1['c']+=1\n",
    "            \n",
    "        elif str1[i]=='d' or str1[i]=='D':\n",
    "            dict1['d']+=1\n",
    "            \n",
    "        elif str1[i]=='e' or str1[i]=='E':\n",
    "            dict1['e']+=1\n",
    "            \n",
    "        elif str1[i]=='f' or str1[i]=='F':\n",
    "            dict1['f']+=1\n",
    "            \n",
    "        elif str1[i]=='g' or str1[i]=='G':\n",
    "            dict1['g']+=1\n",
    "            \n",
    "        elif str1[i]=='h' or str1[i]=='H':\n",
    "            dict1['h']+=1\n",
    "            \n",
    "        elif str1[i]=='i' or str1[i]=='I':\n",
    "            dict1['i']+=1\n",
    "            \n",
    "        elif str1[i]=='j' or str1[i]=='J':\n",
    "            dict1['j']+=1\n",
    "            \n",
    "        elif str1[i]=='k' or str1[i]=='K':\n",
    "            dict1['k']+=1\n",
    "            \n",
    "        elif str1[i]=='l' or str1[i]=='L':\n",
    "            dict1['l']+=1\n",
    "            \n",
    "        elif str1[i]=='m' or str1[i]=='M':\n",
    "            dict1['m']+=1\n",
    "            \n",
    "        elif str1[i]=='n' or str1[i]=='N':\n",
    "            dict1['n']+=1\n",
    "            \n",
    "        elif str1[i]=='o' or str1[i]=='O':\n",
    "            dict1['o']+=1\n",
    "            \n",
    "        elif str1[i]=='p' or str1[i]=='P':\n",
    "            dict1['p']+=1\n",
    "            \n",
    "        elif str1[i]=='q' or str1[i]=='Q':\n",
    "            dict1['q']+=1\n",
    "            \n",
    "        elif str1[i]=='r' or str1[i]=='R':\n",
    "            dict1['r']+=1\n",
    "            \n",
    "        elif str1[i]=='s' or str1[i]=='S':\n",
    "            dict1['s']+=1\n",
    "            \n",
    "        elif str1[i]=='t' or str1[i]=='T':\n",
    "            dict1['t']+=1\n",
    "            \n",
    "        elif str1[i]=='u' or str1[i]=='U':\n",
    "            dict1['u']+=1\n",
    "            \n",
    "        elif str1[i]=='v' or str1[i]=='V':\n",
    "            dict1['v']+=1\n",
    "            \n",
    "        elif str1[i]=='w' or str1[i]=='W':\n",
    "            dict1['w']+=1\n",
    "            \n",
    "        elif str1[i]=='x' or str1[i]=='X':\n",
    "            dict1['x']+=1\n",
    "            \n",
    "        elif str1[i]=='y' or str1[i]=='Y':\n",
    "            dict1['y']+=1\n",
    "        \n",
    "        elif str1[i]=='z' or str1[i]=='Z':\n",
    "            dict1['z']+=1\n",
    "        \n",
    "    # Return dictionary\n",
    "    return dict1\n",
    "\n",
    "def main():\n",
    "    str1=input(\"Enter String : \")\n",
    "    dict1=frequencies(str1)\n",
    "    print(\"Resultant Dictionary : \")\n",
    "    print(dict1)\n",
    "\n",
    "if __name__==\"__main__\":\n",
    "    main()"
   ]
  },
  {
   "cell_type": "code",
   "execution_count": null,
   "id": "61bf572c",
   "metadata": {},
   "outputs": [],
   "source": []
  }
 ],
 "metadata": {
  "kernelspec": {
   "display_name": "Python 3 (ipykernel)",
   "language": "python",
   "name": "python3"
  },
  "language_info": {
   "codemirror_mode": {
    "name": "ipython",
    "version": 3
   },
   "file_extension": ".py",
   "mimetype": "text/x-python",
   "name": "python",
   "nbconvert_exporter": "python",
   "pygments_lexer": "ipython3",
   "version": "3.9.12"
  }
 },
 "nbformat": 4,
 "nbformat_minor": 5
}
